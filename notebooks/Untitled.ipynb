{
 "cells": [
  {
   "cell_type": "code",
   "execution_count": 8,
   "id": "bd39476c",
   "metadata": {},
   "outputs": [
    {
     "name": "stdout",
     "output_type": "stream",
     "text": [
      "1712\n"
     ]
    }
   ],
   "source": [
    "# Just testing how to reuse modules on Jupyter Notebooks\n",
    "\n",
    "import os\n",
    "import sys\n",
    "sys.path.insert(0, os.path.abspath('../modules'))\n",
    "\n",
    "from book_analytics import BookAnalytics\n",
    "\n",
    "ba = BookAnalytics(\"64317.txt.utf-8\", book_path=\"../static/books\")\n",
    "paragraphs, title = ba.parse()\n",
    "print(len(paragraphs))"
   ]
  },
  {
   "cell_type": "code",
   "execution_count": null,
   "id": "59775f49",
   "metadata": {},
   "outputs": [],
   "source": [
    "paragraphs = []\n",
    "title = \"\"\n",
    "book_started = False\n",
    "buffer = \"\"\n",
    "i = 0\n",
    "with open(self.book_path + \"/\" + self.book, \"r\") as book_text:\n",
    "    for line in book_text:\n",
    "        i += 1\n",
    "        if book_started:\n",
    "            buffer += line\n",
    "            # We assume that only paragraphs longer than 15 are meaningful\n",
    "            if len(line) == 1:\n",
    "                buffer = re.compile(r\"\\s+\").sub(\" \", buffer).strip()\n",
    "                paragraphs.append(buffer)\n",
    "                buffer = \"\"\n",
    "        # These ought to be strategy a pattern, that will handle\n",
    "        # multiple types of books; books released under different\n",
    "        # licenses follow different patterns; most follow this\n",
    "        if title == \"\" and \"Title: \" in line:\n",
    "            title = line[7:]\n",
    "        if not book_started:\n",
    "            if \"START OF THIS PROJECT GUTENBERG EBOOK\" in line:\n",
    "                book_started = True\n",
    "            if \"START OF THE PROJECT GUTENBERG EBOOK\" in line:\n",
    "                book_started = True"
   ]
  },
  {
   "cell_type": "code",
   "execution_count": null,
   "id": "a0c7c0a3",
   "metadata": {},
   "outputs": [],
   "source": []
  }
 ],
 "metadata": {
  "kernelspec": {
   "display_name": "Python 3 (ipykernel)",
   "language": "python",
   "name": "python3"
  },
  "language_info": {
   "codemirror_mode": {
    "name": "ipython",
    "version": 3
   },
   "file_extension": ".py",
   "mimetype": "text/x-python",
   "name": "python",
   "nbconvert_exporter": "python",
   "pygments_lexer": "ipython3",
   "version": "3.8.10"
  }
 },
 "nbformat": 4,
 "nbformat_minor": 5
}
