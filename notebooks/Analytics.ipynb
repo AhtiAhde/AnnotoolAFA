{
 "cells": [
  {
   "cell_type": "code",
   "execution_count": 8,
   "id": "7d4b19fc",
   "metadata": {},
   "outputs": [
    {
     "name": "stdout",
     "output_type": "stream",
     "text": [
      "1712\n"
     ]
    }
   ],
   "source": [
    "# Just testing how to reuse modules on Jupyter Notebooks\n",
    "\n",
    "import os\n",
    "import sys\n",
    "sys.path.insert(0, os.path.abspath('../modules'))\n",
    "\n",
    "from book_analytics import BookAnalytics\n",
    "\n",
    "ba = BookAnalytics(\"64317.txt.utf-8\", book_path=\"../static/books\")\n",
    "paragraphs, title = ba.parse()\n",
    "print(len(paragraphs))"
   ]
  },
  {
   "cell_type": "code",
   "execution_count": 15,
   "id": "78e198df",
   "metadata": {},
   "outputs": [
    {
     "name": "stdout",
     "output_type": "stream",
     "text": [
      "495\n"
     ]
    }
   ],
   "source": [
    "import re\n",
    "\n",
    "windows = []\n",
    "buffer = \"\"\n",
    "i = 0\n",
    "with open(\"../static/books/64317.txt.utf-8\", \"r\") as book_text:\n",
    "    for line in book_text:\n",
    "        i += 1\n",
    "        line = re.compile(r\"\\s+\").sub(\" \", line).strip()\n",
    "        if len(buffer.split(\" \")) + len(line.split(\" \")) > 100:\n",
    "            windows.append(buffer)\n",
    "            buffer = \"\"\n",
    "        \n",
    "        buffer += line\n",
    "\n",
    "# we should get 495, matches well with wc -w command count\n",
    "print(len(windows))"
   ]
  },
  {
   "cell_type": "code",
   "execution_count": 16,
   "id": "d50f9851",
   "metadata": {},
   "outputs": [
    {
     "name": "stdout",
     "output_type": "stream",
     "text": [
      "['sheets, clad in his underwear, with a great portfolio in his hands.“Beauty and the Beast … Loneliness … Old Grocery Horse … Brook’nBridge …”Then I was lying half asleep in the cold lower level of thePennsylvania Station, staring at the morning Tribune, and waiting forthe four o’clock train.IIIThere was music from my neighbour’s house through the summer nights.In his blue gardens men and girls came and went like moths among thewhisperings and the champagne and the stars. At high tide in theafternoon I watched his guests diving from the tower of his raft, or', 'taking the sun on the hot sand of his beach while his two motorboatsslit the waters of the Sound, drawing aquaplanes over cataracts offoam. On weekends his Rolls-Royce became an omnibus, bearing partiesto and from the city between nine in the morning and long pastmidnight, while his station wagon scampered like a brisk yellow bug tomeet all trains. And on Mondays eight servants, including an extragardener, toiled all day with mops and scrubbing-brushes and hammersand garden-shears, repairing the ravages of the night before.Every Friday five crates of oranges and lemons arrived from a', 'fruiterer in New York—every Monday these same oranges and lemons lefthis back door in a pyramid of pulpless halves. There was a machine inthe kitchen which could extract the juice of two hundred oranges inhalf an hour if a little button was pressed two hundred times by abutler’s thumb.At least once a fortnight a corps of caterers came down with severalhundred feet of canvas and enough coloured lights to make a Christmastree of Gatsby’s enormous garden. On buffet tables, garnished withglistening hors-d’oeuvre, spiced baked hams crowded against salads ofharlequin designs and pastry pigs and turkeys bewitched to a dark', 'gold. In the main hall a bar with a real brass rail was set up, andstocked with gins and liquors and with cordials so long forgotten thatmost of his female guests were too young to know one from another.By seven o’clock the orchestra has arrived, no thin five-piece affair,but a whole pitful of oboes and trombones and saxophones and viols andcornets and piccolos, and low and high drums. The last swimmers havecome in from the beach now and are dressing upstairs; the cars fromNew York are parked five deep in the drive, and already the halls and', 'salons and verandas are gaudy with primary colours, and hair bobbed instrange new ways, and shawls beyond the dreams of Castile. The bar isin full swing, and floating rounds of cocktails permeate the gardenoutside, until the air is alive with chatter and laughter, and casualinnuendo and introductions forgotten on the spot, and enthusiasticmeetings between women who never knew each other’s names.The lights grow brighter as the earth lurches away from the sun, andnow the orchestra is playing yellow cocktail music, and the opera ofvoices pitches a key higher. Laughter is easier minute by minute,']\n"
     ]
    }
   ],
   "source": [
    "print(windows[100:105])"
   ]
  },
  {
   "cell_type": "code",
   "execution_count": null,
   "id": "7222f4f5",
   "metadata": {},
   "outputs": [],
   "source": []
  }
 ],
 "metadata": {
  "kernelspec": {
   "display_name": "Python 3 (ipykernel)",
   "language": "python",
   "name": "python3"
  },
  "language_info": {
   "codemirror_mode": {
    "name": "ipython",
    "version": 3
   },
   "file_extension": ".py",
   "mimetype": "text/x-python",
   "name": "python",
   "nbconvert_exporter": "python",
   "pygments_lexer": "ipython3",
   "version": "3.8.10"
  }
 },
 "nbformat": 4,
 "nbformat_minor": 5
}
